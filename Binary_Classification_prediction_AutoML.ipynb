{
 "cells": [
  {
   "cell_type": "code",
   "execution_count": 1,
   "metadata": {},
   "outputs": [],
   "source": [
    "import evalml\n",
    "from evalml import AutoMLSearch\n",
    "from sklearn.model_selection import train_test_split\n",
    "import pandas as pd\n",
    "import numpy as np"
   ]
  },
  {
   "cell_type": "code",
   "execution_count": null,
   "metadata": {},
   "outputs": [],
   "source": [
    "# data = evalml.demos.load_fraud(n_rows=1000)\n",
    "data= pd.read_csv('Telco-Customer-Churn.csv')\n",
    "data.head()"
   ]
  },
  {
   "cell_type": "code",
   "execution_count": 2,
   "metadata": {},
   "outputs": [],
   "source": [
    "## Split the data into training and testing sets\n",
    "X, y = data.drop(columns=['Churn']), data['Churn']\n",
    "X_train, X_test, y_train, y_test = train_test_split(X, y, test_size=0.2, random_state=42)"
   ]
  },
  {
   "cell_type": "code",
   "execution_count": 3,
   "metadata": {},
   "outputs": [
    {
     "data": {
      "text/plain": [
       "{1: {'Random Forest Classifier w/ Label Encoder + Drop Columns Transformer + Imputer + One Hot Encoder + RF Classifier Select From Model': 3.683878183364868,\n",
       "  'Total time of batch': 4.501164674758911},\n",
       " 2: {'LightGBM Classifier w/ Label Encoder + Select Columns By Type Transformer + Label Encoder + Drop Columns Transformer + Imputer + Select Columns Transformer + Select Columns Transformer + Label Encoder + Imputer + One Hot Encoder': 3.546255588531494,\n",
       "  'Extra Trees Classifier w/ Label Encoder + Select Columns By Type Transformer + Label Encoder + Drop Columns Transformer + Imputer + Select Columns Transformer + Select Columns Transformer + Label Encoder + Imputer + One Hot Encoder': 3.319422721862793,\n",
       "  'Elastic Net Classifier w/ Label Encoder + Select Columns By Type Transformer + Label Encoder + Drop Columns Transformer + Imputer + Standard Scaler + Select Columns Transformer + Select Columns Transformer + Label Encoder + Imputer + One Hot Encoder + Standard Scaler': 3.204169988632202,\n",
       "  'XGBoost Classifier w/ Label Encoder + Select Columns By Type Transformer + Label Encoder + Drop Columns Transformer + Imputer + Select Columns Transformer + Select Columns Transformer + Label Encoder + Imputer + One Hot Encoder': 3.215949058532715,\n",
       "  'Logistic Regression Classifier w/ Label Encoder + Select Columns By Type Transformer + Label Encoder + Drop Columns Transformer + Imputer + Standard Scaler + Select Columns Transformer + Select Columns Transformer + Label Encoder + Imputer + One Hot Encoder + Standard Scaler': 15.6190664768219,\n",
       "  'Total time of batch': 39.369874477386475},\n",
       " 3: {'Logistic Regression Classifier w/ Label Encoder + Select Columns By Type Transformer + Label Encoder + Drop Columns Transformer + Imputer + Standard Scaler + Select Columns Transformer + Select Columns Transformer + Label Encoder + Imputer + One Hot Encoder + Standard Scaler': 2.88417387008667,\n",
       "  'Random Forest Classifier w/ Label Encoder + Select Columns By Type Transformer + Label Encoder + Drop Columns Transformer + Imputer + Select Columns Transformer + Select Columns Transformer + Label Encoder + Imputer + One Hot Encoder': 6.95265793800354,\n",
       "  'Extra Trees Classifier w/ Label Encoder + Select Columns By Type Transformer + Label Encoder + Drop Columns Transformer + Imputer + Select Columns Transformer + Select Columns Transformer + Label Encoder + Imputer + One Hot Encoder': 5.883055210113525,\n",
       "  'Total time of batch': 121.9645664691925}}"
      ]
     },
     "execution_count": 3,
     "metadata": {},
     "output_type": "execute_result"
    }
   ],
   "source": [
    "# Specify the objective to optimize (e.g., 'F1 Macro' for classification)\n",
    "# objective = 'F1 Macro'   # used for multi_classification\n",
    "objective = 'f1'\n",
    "\n",
    "# Create and run the AutoML search\n",
    "# automl = AutoMLSearch(X_train=X_train, y_train=y_train, problem_type='binary', objective=objective)\n",
    "automl = AutoMLSearch(X_train=X_train, y_train=y_train, problem_type='binary', objective=objective, max_iterations=20)\n",
    "automl.search()"
   ]
  },
  {
   "cell_type": "code",
   "execution_count": 5,
   "metadata": {},
   "outputs": [
    {
     "data": {
      "text/html": [
       "<div>\n",
       "<style scoped>\n",
       "    .dataframe tbody tr th:only-of-type {\n",
       "        vertical-align: middle;\n",
       "    }\n",
       "\n",
       "    .dataframe tbody tr th {\n",
       "        vertical-align: top;\n",
       "    }\n",
       "\n",
       "    .dataframe thead th {\n",
       "        text-align: right;\n",
       "    }\n",
       "</style>\n",
       "<table border=\"1\" class=\"dataframe\">\n",
       "  <thead>\n",
       "    <tr style=\"text-align: right;\">\n",
       "      <th></th>\n",
       "      <th>id</th>\n",
       "      <th>pipeline_name</th>\n",
       "      <th>search_order</th>\n",
       "      <th>ranking_score</th>\n",
       "      <th>mean_cv_score</th>\n",
       "      <th>standard_deviation_cv_score</th>\n",
       "      <th>percent_better_than_baseline</th>\n",
       "      <th>high_variance_cv</th>\n",
       "      <th>parameters</th>\n",
       "    </tr>\n",
       "  </thead>\n",
       "  <tbody>\n",
       "    <tr>\n",
       "      <th>0</th>\n",
       "      <td>6</td>\n",
       "      <td>Logistic Regression Classifier w/ Label Encode...</td>\n",
       "      <td>6</td>\n",
       "      <td>0.623681</td>\n",
       "      <td>0.623681</td>\n",
       "      <td>0.012150</td>\n",
       "      <td>62.368143</td>\n",
       "      <td>False</td>\n",
       "      <td>{'Label Encoder': {'positive_label': None}, 'N...</td>\n",
       "    </tr>\n",
       "    <tr>\n",
       "      <th>2</th>\n",
       "      <td>11</td>\n",
       "      <td>Random Forest Classifier w/ Label Encoder + Se...</td>\n",
       "      <td>11</td>\n",
       "      <td>0.622581</td>\n",
       "      <td>0.622581</td>\n",
       "      <td>0.009730</td>\n",
       "      <td>62.258083</td>\n",
       "      <td>False</td>\n",
       "      <td>{'Label Encoder': {'positive_label': None}, 'N...</td>\n",
       "    </tr>\n",
       "    <tr>\n",
       "      <th>8</th>\n",
       "      <td>1</td>\n",
       "      <td>Random Forest Classifier w/ Label Encoder + Dr...</td>\n",
       "      <td>1</td>\n",
       "      <td>0.619264</td>\n",
       "      <td>0.619264</td>\n",
       "      <td>0.012222</td>\n",
       "      <td>61.926433</td>\n",
       "      <td>False</td>\n",
       "      <td>{'Label Encoder': {'positive_label': None}, 'D...</td>\n",
       "    </tr>\n",
       "    <tr>\n",
       "      <th>9</th>\n",
       "      <td>4</td>\n",
       "      <td>Elastic Net Classifier w/ Label Encoder + Sele...</td>\n",
       "      <td>4</td>\n",
       "      <td>0.618469</td>\n",
       "      <td>0.618469</td>\n",
       "      <td>0.010947</td>\n",
       "      <td>61.846927</td>\n",
       "      <td>False</td>\n",
       "      <td>{'Label Encoder': {'positive_label': None}, 'N...</td>\n",
       "    </tr>\n",
       "    <tr>\n",
       "      <th>10</th>\n",
       "      <td>9</td>\n",
       "      <td>Extra Trees Classifier w/ Label Encoder + Sele...</td>\n",
       "      <td>9</td>\n",
       "      <td>0.618129</td>\n",
       "      <td>0.618129</td>\n",
       "      <td>0.007668</td>\n",
       "      <td>61.812923</td>\n",
       "      <td>False</td>\n",
       "      <td>{'Label Encoder': {'positive_label': None}, 'N...</td>\n",
       "    </tr>\n",
       "    <tr>\n",
       "      <th>16</th>\n",
       "      <td>5</td>\n",
       "      <td>XGBoost Classifier w/ Label Encoder + Select C...</td>\n",
       "      <td>5</td>\n",
       "      <td>0.605595</td>\n",
       "      <td>0.605595</td>\n",
       "      <td>0.004872</td>\n",
       "      <td>60.559487</td>\n",
       "      <td>False</td>\n",
       "      <td>{'Label Encoder': {'positive_label': None}, 'N...</td>\n",
       "    </tr>\n",
       "    <tr>\n",
       "      <th>18</th>\n",
       "      <td>2</td>\n",
       "      <td>LightGBM Classifier w/ Label Encoder + Select ...</td>\n",
       "      <td>2</td>\n",
       "      <td>0.598948</td>\n",
       "      <td>0.598948</td>\n",
       "      <td>0.006614</td>\n",
       "      <td>59.894789</td>\n",
       "      <td>False</td>\n",
       "      <td>{'Label Encoder': {'positive_label': None}, 'N...</td>\n",
       "    </tr>\n",
       "    <tr>\n",
       "      <th>19</th>\n",
       "      <td>0</td>\n",
       "      <td>Mode Baseline Binary Classification Pipeline</td>\n",
       "      <td>0</td>\n",
       "      <td>0.000000</td>\n",
       "      <td>0.000000</td>\n",
       "      <td>0.000000</td>\n",
       "      <td>0.000000</td>\n",
       "      <td>False</td>\n",
       "      <td>{'Label Encoder': {'positive_label': None}, 'B...</td>\n",
       "    </tr>\n",
       "  </tbody>\n",
       "</table>\n",
       "</div>"
      ],
      "text/plain": [
       "    id                                      pipeline_name  search_order  \\\n",
       "0    6  Logistic Regression Classifier w/ Label Encode...             6   \n",
       "2   11  Random Forest Classifier w/ Label Encoder + Se...            11   \n",
       "8    1  Random Forest Classifier w/ Label Encoder + Dr...             1   \n",
       "9    4  Elastic Net Classifier w/ Label Encoder + Sele...             4   \n",
       "10   9  Extra Trees Classifier w/ Label Encoder + Sele...             9   \n",
       "16   5  XGBoost Classifier w/ Label Encoder + Select C...             5   \n",
       "18   2  LightGBM Classifier w/ Label Encoder + Select ...             2   \n",
       "19   0       Mode Baseline Binary Classification Pipeline             0   \n",
       "\n",
       "    ranking_score  mean_cv_score  standard_deviation_cv_score  \\\n",
       "0        0.623681       0.623681                     0.012150   \n",
       "2        0.622581       0.622581                     0.009730   \n",
       "8        0.619264       0.619264                     0.012222   \n",
       "9        0.618469       0.618469                     0.010947   \n",
       "10       0.618129       0.618129                     0.007668   \n",
       "16       0.605595       0.605595                     0.004872   \n",
       "18       0.598948       0.598948                     0.006614   \n",
       "19       0.000000       0.000000                     0.000000   \n",
       "\n",
       "    percent_better_than_baseline  high_variance_cv  \\\n",
       "0                      62.368143             False   \n",
       "2                      62.258083             False   \n",
       "8                      61.926433             False   \n",
       "9                      61.846927             False   \n",
       "10                     61.812923             False   \n",
       "16                     60.559487             False   \n",
       "18                     59.894789             False   \n",
       "19                      0.000000             False   \n",
       "\n",
       "                                           parameters  \n",
       "0   {'Label Encoder': {'positive_label': None}, 'N...  \n",
       "2   {'Label Encoder': {'positive_label': None}, 'N...  \n",
       "8   {'Label Encoder': {'positive_label': None}, 'D...  \n",
       "9   {'Label Encoder': {'positive_label': None}, 'N...  \n",
       "10  {'Label Encoder': {'positive_label': None}, 'N...  \n",
       "16  {'Label Encoder': {'positive_label': None}, 'N...  \n",
       "18  {'Label Encoder': {'positive_label': None}, 'N...  \n",
       "19  {'Label Encoder': {'positive_label': None}, 'B...  "
      ]
     },
     "execution_count": 5,
     "metadata": {},
     "output_type": "execute_result"
    }
   ],
   "source": [
    "\n",
    "# Access the ranking of pipelines\n",
    "pipeline_rankings = automl.rankings\n",
    "pipeline_rankings"
   ]
  },
  {
   "cell_type": "code",
   "execution_count": 6,
   "metadata": {},
   "outputs": [
    {
     "data": {
      "text/plain": [
       "pipeline = BinaryClassificationPipeline(component_graph={'Label Encoder': ['Label Encoder', 'X', 'y'], 'Numeric Pipeline - Select Columns By Type Transformer': ['Select Columns By Type Transformer', 'X', 'Label Encoder.y'], 'Numeric Pipeline - Label Encoder': ['Label Encoder', 'Numeric Pipeline - Select Columns By Type Transformer.x', 'Label Encoder.y'], 'Numeric Pipeline - Drop Columns Transformer': ['Drop Columns Transformer', 'Numeric Pipeline - Select Columns By Type Transformer.x', 'Numeric Pipeline - Label Encoder.y'], 'Numeric Pipeline - Imputer': ['Imputer', 'Numeric Pipeline - Drop Columns Transformer.x', 'Numeric Pipeline - Label Encoder.y'], 'Numeric Pipeline - Standard Scaler': ['Standard Scaler', 'Numeric Pipeline - Imputer.x', 'Numeric Pipeline - Label Encoder.y'], 'Numeric Pipeline - Select Columns Transformer': ['Select Columns Transformer', 'Numeric Pipeline - Standard Scaler.x', 'Numeric Pipeline - Label Encoder.y'], 'Categorical Pipeline - Select Columns Transformer': ['Select Columns Transformer', 'X', 'Label Encoder.y'], 'Categorical Pipeline - Label Encoder': ['Label Encoder', 'Categorical Pipeline - Select Columns Transformer.x', 'Label Encoder.y'], 'Categorical Pipeline - Imputer': ['Imputer', 'Categorical Pipeline - Select Columns Transformer.x', 'Categorical Pipeline - Label Encoder.y'], 'Categorical Pipeline - One Hot Encoder': ['One Hot Encoder', 'Categorical Pipeline - Imputer.x', 'Categorical Pipeline - Label Encoder.y'], 'Categorical Pipeline - Standard Scaler': ['Standard Scaler', 'Categorical Pipeline - One Hot Encoder.x', 'Categorical Pipeline - Label Encoder.y'], 'Logistic Regression Classifier': ['Logistic Regression Classifier', 'Numeric Pipeline - Select Columns Transformer.x', 'Categorical Pipeline - Standard Scaler.x', 'Categorical Pipeline - Label Encoder.y']}, parameters={'Label Encoder':{'positive_label': None}, 'Numeric Pipeline - Select Columns By Type Transformer':{'column_types': ['category', 'EmailAddress', 'URL'], 'exclude': True}, 'Numeric Pipeline - Label Encoder':{'positive_label': None}, 'Numeric Pipeline - Drop Columns Transformer':{'columns': ['customerID']}, 'Numeric Pipeline - Imputer':{'categorical_impute_strategy': 'most_frequent', 'numeric_impute_strategy': 'mean', 'boolean_impute_strategy': 'most_frequent', 'categorical_fill_value': None, 'numeric_fill_value': None, 'boolean_fill_value': None}, 'Numeric Pipeline - Select Columns Transformer':{'columns': ['SeniorCitizen', 'Partner', 'Dependents', 'tenure', 'PaperlessBilling', 'MonthlyCharges', 'TotalCharges']}, 'Categorical Pipeline - Select Columns Transformer':{'columns': ['gender', 'MultipleLines', 'InternetService', 'OnlineSecurity', 'OnlineBackup', 'DeviceProtection', 'TechSupport', 'StreamingMovies', 'Contract', 'PaymentMethod']}, 'Categorical Pipeline - Label Encoder':{'positive_label': None}, 'Categorical Pipeline - Imputer':{'categorical_impute_strategy': 'most_frequent', 'numeric_impute_strategy': 'mean', 'boolean_impute_strategy': 'most_frequent', 'categorical_fill_value': None, 'numeric_fill_value': None, 'boolean_fill_value': None}, 'Categorical Pipeline - One Hot Encoder':{'top_n': 10, 'features_to_encode': None, 'categories': None, 'drop': 'if_binary', 'handle_unknown': 'ignore', 'handle_missing': 'error'}, 'Logistic Regression Classifier':{'penalty': 'l2', 'C': 1.0, 'n_jobs': -1, 'multi_class': 'auto', 'solver': 'lbfgs'}}, random_seed=0)"
      ]
     },
     "execution_count": 6,
     "metadata": {},
     "output_type": "execute_result"
    }
   ],
   "source": [
    "\n",
    "# Retrieve the best pipeline\n",
    "best_pipeline = automl.best_pipeline\n",
    "best_pipeline\n"
   ]
  },
  {
   "cell_type": "code",
   "execution_count": 7,
   "metadata": {},
   "outputs": [
    {
     "name": "stdout",
     "output_type": "stream",
     "text": [
      "\n",
      "***************************************************************************************************************************************************************************************************************************************************************************************\n",
      "* Logistic Regression Classifier w/ Label Encoder + Select Columns By Type Transformer + Label Encoder + Drop Columns Transformer + Imputer + Standard Scaler + Select Columns Transformer + Select Columns Transformer + Label Encoder + Imputer + One Hot Encoder + Standard Scaler *\n",
      "***************************************************************************************************************************************************************************************************************************************************************************************\n",
      "\n",
      "Problem Type: binary\n",
      "Model Family: Linear\n",
      "\n",
      "Pipeline Steps\n",
      "==============\n",
      "1. Label Encoder\n",
      "\t * positive_label : None\n",
      "2. Select Columns By Type Transformer\n",
      "\t * column_types : ['category', 'EmailAddress', 'URL']\n",
      "\t * exclude : True\n",
      "3. Label Encoder\n",
      "\t * positive_label : None\n",
      "4. Drop Columns Transformer\n",
      "\t * columns : ['customerID']\n",
      "5. Imputer\n",
      "\t * categorical_impute_strategy : most_frequent\n",
      "\t * numeric_impute_strategy : mean\n",
      "\t * boolean_impute_strategy : most_frequent\n",
      "\t * categorical_fill_value : None\n",
      "\t * numeric_fill_value : None\n",
      "\t * boolean_fill_value : None\n",
      "6. Standard Scaler\n",
      "7. Select Columns Transformer\n",
      "\t * columns : ['SeniorCitizen', 'Partner', 'Dependents', 'tenure', 'PaperlessBilling', 'MonthlyCharges', 'TotalCharges']\n",
      "8. Select Columns Transformer\n",
      "\t * columns : ['gender', 'MultipleLines', 'InternetService', 'OnlineSecurity', 'OnlineBackup', 'DeviceProtection', 'TechSupport', 'StreamingMovies', 'Contract', 'PaymentMethod']\n",
      "9. Label Encoder\n",
      "\t * positive_label : None\n",
      "10. Imputer\n",
      "\t * categorical_impute_strategy : most_frequent\n",
      "\t * numeric_impute_strategy : mean\n",
      "\t * boolean_impute_strategy : most_frequent\n",
      "\t * categorical_fill_value : None\n",
      "\t * numeric_fill_value : None\n",
      "\t * boolean_fill_value : None\n",
      "11. One Hot Encoder\n",
      "\t * top_n : 10\n",
      "\t * features_to_encode : None\n",
      "\t * categories : None\n",
      "\t * drop : if_binary\n",
      "\t * handle_unknown : ignore\n",
      "\t * handle_missing : error\n",
      "12. Standard Scaler\n",
      "13. Logistic Regression Classifier\n",
      "\t * penalty : l2\n",
      "\t * C : 1.0\n",
      "\t * n_jobs : -1\n",
      "\t * multi_class : auto\n",
      "\t * solver : lbfgs\n",
      "\n",
      "Training\n",
      "========\n",
      "Training for binary problems.\n",
      "Objective to optimize binary classification pipeline thresholds for: <evalml.objectives.standard_metrics.F1 object at 0x000001E1CDD3AFD0>\n",
      "Total training time (including CV): 15.4 seconds\n",
      "\n",
      "Cross Validation\n",
      "----------------\n",
      "               F1  MCC Binary  Log Loss Binary  Gini   AUC  Precision  Balanced Accuracy Binary  Accuracy Binary # Training # Validation\n",
      "0           0.631       0.480            0.422 0.679 0.840      0.542                     0.762            0.766      3,756        1,878\n",
      "1           0.610       0.448            0.441 0.653 0.827      0.528                     0.744            0.755      3,756        1,878\n",
      "2           0.631       0.480            0.412 0.699 0.849      0.514                     0.768            0.746      3,756        1,878\n",
      "mean        0.624       0.469            0.425 0.677 0.838      0.528                     0.758            0.755          -            -\n",
      "std         0.012       0.018            0.015 0.023 0.011      0.014                     0.013            0.010          -            -\n",
      "coef of var 0.019       0.039            0.036 0.034 0.014      0.026                     0.017            0.013          -            -\n"
     ]
    }
   ],
   "source": [
    "# Retrieve the best pipeline and summarize the results\n",
    "best_pipeline = automl.best_pipeline\n",
    "automl.describe_pipeline(automl.rankings.iloc[0][\"id\"])"
   ]
  },
  {
   "cell_type": "markdown",
   "metadata": {},
   "source": [
    "# Save the best pipeline\n"
   ]
  },
  {
   "cell_type": "code",
   "execution_count": 8,
   "metadata": {},
   "outputs": [],
   "source": [
    "# Save the best pipeline\n",
    "best_pipeline.save(\"Binary_Cassification_model.pkl\")"
   ]
  },
  {
   "cell_type": "markdown",
   "metadata": {},
   "source": [
    "# Loading the saved model in order to do prediction"
   ]
  },
  {
   "cell_type": "code",
   "execution_count": 9,
   "metadata": {},
   "outputs": [],
   "source": [
    "final_model=automl.load('Binary_Cassification_model.pkl')"
   ]
  },
  {
   "cell_type": "markdown",
   "metadata": {},
   "source": [
    "# Make predictions on the test set\n"
   ]
  },
  {
   "cell_type": "code",
   "execution_count": 10,
   "metadata": {},
   "outputs": [
    {
     "data": {
      "text/plain": [
       "185      True\n",
       "2715    False\n",
       "3825    False\n",
       "1807     True\n",
       "132     False\n",
       "        ...  \n",
       "6366    False\n",
       "315     False\n",
       "2439    False\n",
       "5002    False\n",
       "1161     True\n",
       "Name: Churn, Length: 1409, dtype: bool"
      ]
     },
     "execution_count": 10,
     "metadata": {},
     "output_type": "execute_result"
    }
   ],
   "source": [
    "# Make predictions on the test set\n",
    "y_pred = final_model.predict(X_test)\n",
    "y_pred"
   ]
  },
  {
   "cell_type": "code",
   "execution_count": 11,
   "metadata": {},
   "outputs": [
    {
     "data": {
      "text/html": [
       "<div>\n",
       "<style scoped>\n",
       "    .dataframe tbody tr th:only-of-type {\n",
       "        vertical-align: middle;\n",
       "    }\n",
       "\n",
       "    .dataframe tbody tr th {\n",
       "        vertical-align: top;\n",
       "    }\n",
       "\n",
       "    .dataframe thead th {\n",
       "        text-align: right;\n",
       "    }\n",
       "</style>\n",
       "<table border=\"1\" class=\"dataframe\">\n",
       "  <thead>\n",
       "    <tr style=\"text-align: right;\">\n",
       "      <th></th>\n",
       "      <th>True_result</th>\n",
       "      <th>Predicted_result</th>\n",
       "      <th>Correct_result</th>\n",
       "    </tr>\n",
       "  </thead>\n",
       "  <tbody>\n",
       "    <tr>\n",
       "      <th>185</th>\n",
       "      <td>Yes</td>\n",
       "      <td>Yes</td>\n",
       "      <td>1</td>\n",
       "    </tr>\n",
       "    <tr>\n",
       "      <th>2715</th>\n",
       "      <td>No</td>\n",
       "      <td>No</td>\n",
       "      <td>1</td>\n",
       "    </tr>\n",
       "    <tr>\n",
       "      <th>3825</th>\n",
       "      <td>No</td>\n",
       "      <td>No</td>\n",
       "      <td>1</td>\n",
       "    </tr>\n",
       "    <tr>\n",
       "      <th>1807</th>\n",
       "      <td>Yes</td>\n",
       "      <td>Yes</td>\n",
       "      <td>1</td>\n",
       "    </tr>\n",
       "    <tr>\n",
       "      <th>132</th>\n",
       "      <td>No</td>\n",
       "      <td>No</td>\n",
       "      <td>1</td>\n",
       "    </tr>\n",
       "    <tr>\n",
       "      <th>...</th>\n",
       "      <td>...</td>\n",
       "      <td>...</td>\n",
       "      <td>...</td>\n",
       "    </tr>\n",
       "    <tr>\n",
       "      <th>6366</th>\n",
       "      <td>No</td>\n",
       "      <td>No</td>\n",
       "      <td>1</td>\n",
       "    </tr>\n",
       "    <tr>\n",
       "      <th>315</th>\n",
       "      <td>No</td>\n",
       "      <td>No</td>\n",
       "      <td>1</td>\n",
       "    </tr>\n",
       "    <tr>\n",
       "      <th>2439</th>\n",
       "      <td>No</td>\n",
       "      <td>No</td>\n",
       "      <td>1</td>\n",
       "    </tr>\n",
       "    <tr>\n",
       "      <th>5002</th>\n",
       "      <td>No</td>\n",
       "      <td>No</td>\n",
       "      <td>1</td>\n",
       "    </tr>\n",
       "    <tr>\n",
       "      <th>1161</th>\n",
       "      <td>Yes</td>\n",
       "      <td>Yes</td>\n",
       "      <td>1</td>\n",
       "    </tr>\n",
       "  </tbody>\n",
       "</table>\n",
       "<p>1409 rows × 3 columns</p>\n",
       "</div>"
      ],
      "text/plain": [
       "     True_result Predicted_result  Correct_result\n",
       "185          Yes              Yes               1\n",
       "2715          No               No               1\n",
       "3825          No               No               1\n",
       "1807         Yes              Yes               1\n",
       "132           No               No               1\n",
       "...          ...              ...             ...\n",
       "6366          No               No               1\n",
       "315           No               No               1\n",
       "2439          No               No               1\n",
       "5002          No               No               1\n",
       "1161         Yes              Yes               1\n",
       "\n",
       "[1409 rows x 3 columns]"
      ]
     },
     "execution_count": 11,
     "metadata": {},
     "output_type": "execute_result"
    }
   ],
   "source": [
    "df_pred=pd.DataFrame({'True_result': y_test, 'Predicted_result':y_pred})\n",
    "# res={'True':'Yes','False':'No'}\n",
    "# res={'Yes':'True','No':'False'}\n",
    "df_pred['Predicted_result']=np.where(df_pred['Predicted_result']==True,'Yes','No')\n",
    "df_pred['Correct_result']=np.where(df_pred['True_result']==df_pred['Predicted_result'],1,0)\n",
    "\n",
    "df_pred"
   ]
  },
  {
   "cell_type": "code",
   "execution_count": 12,
   "metadata": {},
   "outputs": [
    {
     "data": {
      "text/plain": [
       "1    1109\n",
       "0     300\n",
       "Name: Correct_result, dtype: int64"
      ]
     },
     "execution_count": 12,
     "metadata": {},
     "output_type": "execute_result"
    }
   ],
   "source": [
    "df_pred['Correct_result'].value_counts()"
   ]
  },
  {
   "cell_type": "code",
   "execution_count": 21,
   "metadata": {},
   "outputs": [
    {
     "name": "stdout",
     "output_type": "stream",
     "text": [
      "Classification Report:\n",
      "OrderedDict([('F1', 0.6470588235294117)])\n"
     ]
    }
   ],
   "source": [
    "# Evaluate the predictions\n",
    "print(f\"Classification Report:\\n{best_pipeline.score(X_test, y_test, objectives=[objective])}\")"
   ]
  },
  {
   "cell_type": "code",
   "execution_count": 23,
   "metadata": {},
   "outputs": [
    {
     "ename": "KeyError",
     "evalue": "'pipeline_name'",
     "output_type": "error",
     "traceback": [
      "\u001b[1;31m---------------------------------------------------------------------------\u001b[0m",
      "\u001b[1;31mKeyError\u001b[0m                                  Traceback (most recent call last)",
      "Cell \u001b[1;32mIn[23], line 11\u001b[0m\n\u001b[0;32m      8\u001b[0m pipeline_name \u001b[38;5;241m=\u001b[39m row[\u001b[38;5;124m'\u001b[39m\u001b[38;5;124mpipeline_name\u001b[39m\u001b[38;5;124m'\u001b[39m]\n\u001b[0;32m     10\u001b[0m \u001b[38;5;66;03m# # Access and print evaluation results for each pipeline\u001b[39;00m\n\u001b[1;32m---> 11\u001b[0m result_row \u001b[38;5;241m=\u001b[39m pipeline_results[\u001b[43mpipeline_results\u001b[49m\u001b[43m[\u001b[49m\u001b[38;5;124;43m'\u001b[39;49m\u001b[38;5;124;43mpipeline_name\u001b[39;49m\u001b[38;5;124;43m'\u001b[39;49m\u001b[43m]\u001b[49m \u001b[38;5;241m==\u001b[39m pipeline_name]\u001b[38;5;241m.\u001b[39miloc[\u001b[38;5;241m0\u001b[39m]\n\u001b[0;32m     12\u001b[0m \u001b[38;5;66;03m# print(result_row['id'])\u001b[39;00m\n\u001b[0;32m     13\u001b[0m \u001b[38;5;66;03m# print(result_row['score'])\u001b[39;00m\n\u001b[0;32m     14\u001b[0m \u001b[38;5;66;03m# print(result_row['percent_better_than_baseline'])\u001b[39;00m\n\u001b[0;32m     15\u001b[0m \u001b[38;5;66;03m# print(result_row['training_time'])\u001b[39;00m\n",
      "\u001b[1;31mKeyError\u001b[0m: 'pipeline_name'"
     ]
    }
   ],
   "source": [
    "# Access the ranking and evaluation results of pipelines\n",
    "pipeline_rankings = automl.rankings\n",
    "pipeline_results = automl.results\n",
    "\n",
    "# Display the ranking along with evaluation results\n",
    "for _, row in pipeline_rankings.iterrows():\n",
    "    # print(row)\n",
    "    pipeline_name = row['pipeline_name']\n",
    "    \n",
    "    # # Access and print evaluation results for each pipeline\n",
    "    result_row = pipeline_results[pipeline_results['pipeline_name'] == pipeline_name].iloc[0]\n",
    "    # print(result_row['id'])\n",
    "    # print(result_row['score'])\n",
    "    # print(result_row['percent_better_than_baseline'])\n",
    "    # print(result_row['training_time'])"
   ]
  },
  {
   "cell_type": "code",
   "execution_count": null,
   "metadata": {},
   "outputs": [],
   "source": []
  },
  {
   "cell_type": "code",
   "execution_count": null,
   "metadata": {},
   "outputs": [],
   "source": []
  },
  {
   "cell_type": "code",
   "execution_count": null,
   "metadata": {},
   "outputs": [],
   "source": []
  }
 ],
 "metadata": {
  "kernelspec": {
   "display_name": "forecating_env",
   "language": "python",
   "name": "python3"
  },
  "language_info": {
   "codemirror_mode": {
    "name": "ipython",
    "version": 3
   },
   "file_extension": ".py",
   "mimetype": "text/x-python",
   "name": "python",
   "nbconvert_exporter": "python",
   "pygments_lexer": "ipython3",
   "version": "3.9.18"
  }
 },
 "nbformat": 4,
 "nbformat_minor": 2
}
